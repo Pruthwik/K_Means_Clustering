{
 "cells": [
  {
   "cell_type": "code",
   "execution_count": 1,
   "metadata": {},
   "outputs": [],
   "source": [
    "# This is a demo for K-means clustering.\n",
    "import numpy as np\n",
    "from math import sqrt\n",
    "import matplotlib.pyplot as plt"
   ]
  },
  {
   "cell_type": "code",
   "execution_count": 2,
   "metadata": {},
   "outputs": [],
   "source": [
    "# define an array of inputs\n",
    "inputs = np.array([(1, 1), (1, 2), (1, 3), (2, 1), (2, 2), (2, 3), (4, 2), (4, 3), (4, 4), (5, 2), (5, 3), (5, 4)])"
   ]
  },
  {
   "cell_type": "code",
   "execution_count": 3,
   "metadata": {},
   "outputs": [],
   "source": [
    "x_coord, y_coord = inputs.T"
   ]
  },
  {
   "cell_type": "code",
   "execution_count": 4,
   "metadata": {},
   "outputs": [],
   "source": [
    "# define the number of clusters\n",
    "k = 2"
   ]
  },
  {
   "cell_type": "code",
   "execution_count": 5,
   "metadata": {},
   "outputs": [
    {
     "data": {
      "text/plain": [
       "<matplotlib.collections.PathCollection at 0x7fe923f9b610>"
      ]
     },
     "execution_count": 5,
     "metadata": {},
     "output_type": "execute_result"
    },
    {
     "data": {
      "image/png": "[encoded data removed]",
      "text/plain": [
       "<Figure size 432x288 with 1 Axes>"
      ]
     },
     "metadata": {
      "needs_background": "light"
     },
     "output_type": "display_data"
    }
   ],
   "source": [
    "plt.scatter(x_coord, y_coord)"
   ]
  },
  {
   "cell_type": "code",
   "execution_count": 6,
   "metadata": {},
   "outputs": [],
   "source": [
    "# randomly initialize cluster means\n",
    "index1_mean, index2_mean = 0, 1"
   ]
  },
  {
   "cell_type": "code",
   "execution_count": 7,
   "metadata": {},
   "outputs": [],
   "source": [
    "# Calculate the euclidean distance\n",
    "def find_euclidean_distance(point1, point2):\n",
    "    return sqrt((point1[0] - point2[0]) ** 2 + (point1[1] - point2[1]) ** 2)"
   ]
  },
  {
   "cell_type": "code",
   "execution_count": 29,
   "metadata": {},
   "outputs": [],
   "source": [
    "# Assignment of points to clusters\n",
    "def assign_points_to_clusters(inputs, cluster1_mean, cluster2_mean):\n",
    "    cluster1, cluster2 = list(), list()\n",
    "    labels = list()\n",
    "    for i in range(inputs.shape[0]):\n",
    "        if find_euclidean_distance(cluster1_mean, inputs[i]) < find_euclidean_distance(cluster2_mean, inputs[i]):\n",
    "            cluster1.append(inputs[i])\n",
    "            labels.append(0)\n",
    "        elif find_euclidean_distance(cluster1_mean, inputs[i]) > find_euclidean_distance(cluster2_mean, inputs[i]):\n",
    "            cluster2.append(inputs[i])\n",
    "            labels.append(1)\n",
    "        else:\n",
    "            random_choice = np.random.choice(2, 1)[0]\n",
    "            if random_choice == 0:\n",
    "                cluster1.append(inputs[i])\n",
    "                labels.append(0)\n",
    "            else:\n",
    "                cluster2.append(inputs[i])\n",
    "                labels.append(1)\n",
    "    return np.array(cluster1), np.array(cluster2), labels"
   ]
  },
  {
   "cell_type": "code",
   "execution_count": 9,
   "metadata": {},
   "outputs": [],
   "source": [
    "# update the cluster means\n",
    "def update_cluster_means(cluster1, cluster2):\n",
    "    return np.mean(cluster1, axis=0), np.mean(cluster2, axis=0)"
   ]
  },
  {
   "cell_type": "code",
   "execution_count": 30,
   "metadata": {},
   "outputs": [
    {
     "name": "stdout",
     "output_type": "stream",
     "text": [
      "iteration= 3\n",
      "Cluster1 mean = [1.5 2. ]\n",
      "Cluster2 mean = [4.5 3. ]\n",
      "Cluster1 = [[1 1]\n",
      " [1 2]\n",
      " [1 3]\n",
      " [2 1]\n",
      " [2 2]\n",
      " [2 3]]\n",
      "Cluster2 = [[4 2]\n",
      " [4 3]\n",
      " [4 4]\n",
      " [5 2]\n",
      " [5 3]\n",
      " [5 4]]\n"
     ]
    }
   ],
   "source": [
    "# Run K-means multiple times\n",
    "iterations = 100\n",
    "tol_level = 0.0001\n",
    "cluster1_mean, cluster2_mean = inputs[index1_mean], inputs[index2_mean]\n",
    "prev_cluster1_mean, prev_cluster2_mean = 0., 0.\n",
    "for i in range(iterations):\n",
    "    cluster1, cluster2, labels = assign_points_to_clusters(inputs, cluster1_mean, cluster2_mean)\n",
    "    cluster1_mean, cluster2_mean = update_cluster_means(cluster1, cluster2)\n",
    "    if i == 0:\n",
    "        prev_cluster1_mean, prev_cluster2_mean = cluster1_mean, cluster2_mean\n",
    "        continue\n",
    "    else:\n",
    "        if np.abs(prev_cluster1_mean - cluster1_mean).all() < tol_level and np.abs(prev_cluster2_mean - cluster2_mean).all() < tol_level:\n",
    "            break\n",
    "    prev_cluster1_mean, prev_cluster2_mean = cluster1_mean, cluster2_mean\n",
    "print('iteration=', i)\n",
    "print('Cluster1 mean =', cluster1_mean)\n",
    "print('Cluster2 mean =', cluster2_mean)\n",
    "print('Cluster1 =', cluster1)\n",
    "print('Cluster2 =', cluster2)"
   ]
  },
  {
   "cell_type": "code",
   "execution_count": 33,
   "metadata": {},
   "outputs": [
    {
     "data": {
      "text/plain": [
       "[0, 0, 0, 0, 0, 0, 1, 1, 1, 1, 1, 1]"
      ]
     },
     "execution_count": 33,
     "metadata": {},
     "output_type": "execute_result"
    }
   ],
   "source": [
    "labels"
   ]
  },
  {
   "cell_type": "code",
   "execution_count": 31,
   "metadata": {},
   "outputs": [],
   "source": [
    "cluster1_x, cluster1_y = np.array(cluster1).T"
   ]
  },
  {
   "cell_type": "code",
   "execution_count": 32,
   "metadata": {},
   "outputs": [],
   "source": [
    "cluster2_x, cluster2_y = np.array(cluster2).T"
   ]
  },
  {
   "cell_type": "code",
   "execution_count": 13,
   "metadata": {},
   "outputs": [],
   "source": [
    "# cluster1_labels = np.array([0 for i in range(len(cluster1))])"
   ]
  },
  {
   "cell_type": "code",
   "execution_count": 14,
   "metadata": {},
   "outputs": [],
   "source": [
    "# cluster2_labels = np.array([0 for i in range(len(cluster2))])"
   ]
  },
  {
   "cell_type": "code",
   "execution_count": 15,
   "metadata": {},
   "outputs": [
    {
     "data": {
      "text/plain": [
       "array([1, 1, 1, 2, 2, 2])"
      ]
     },
     "execution_count": 15,
     "metadata": {},
     "output_type": "execute_result"
    }
   ],
   "source": [
    "cluster1_x"
   ]
  },
  {
   "cell_type": "code",
   "execution_count": 16,
   "metadata": {},
   "outputs": [
    {
     "data": {
      "text/plain": [
       "<matplotlib.collections.PathCollection at 0x7fe91be324f0>"
      ]
     },
     "execution_count": 16,
     "metadata": {},
     "output_type": "execute_result"
    },
    {
     "data": {
      "image/png": "[encoded data removed]",
      "text/plain": [
       "<Figure size 432x288 with 1 Axes>"
      ]
     },
     "metadata": {
      "needs_background": "light"
     },
     "output_type": "display_data"
    }
   ],
   "source": [
    "plt.scatter(cluster1_x, cluster1_y)"
   ]
  },
  {
   "cell_type": "code",
   "execution_count": 17,
   "metadata": {},
   "outputs": [
    {
     "data": {
      "text/plain": [
       "<matplotlib.collections.PathCollection at 0x7fe91be104c0>"
      ]
     },
     "execution_count": 17,
     "metadata": {},
     "output_type": "execute_result"
    },
    {
     "data": {
      "image/png": "[encoded data removed]",
      "text/plain": [
       "<Figure size 432x288 with 1 Axes>"
      ]
     },
     "metadata": {
      "needs_background": "light"
     },
     "output_type": "display_data"
    }
   ],
   "source": [
    "plt.scatter(cluster1_x, cluster1_y, color='red', label='cluster1')"
   ]
  },
  {
   "cell_type": "code",
   "execution_count": 18,
   "metadata": {},
   "outputs": [
    {
     "data": {
      "text/plain": [
       "<matplotlib.collections.PathCollection at 0x7fe91bdebd60>"
      ]
     },
     "execution_count": 18,
     "metadata": {},
     "output_type": "execute_result"
    },
    {
     "data": {
      "image/png": "[encoded data removed]",
      "text/plain": [
       "<Figure size 432x288 with 1 Axes>"
      ]
     },
     "metadata": {
      "needs_background": "light"
     },
     "output_type": "display_data"
    }
   ],
   "source": [
    "plt.scatter(cluster2_x, cluster2_y, color='yellow', label='cluster2')"
   ]
  },
  {
   "cell_type": "code",
   "execution_count": 38,
   "metadata": {},
   "outputs": [
    {
     "data": {
      "image/png": "[encoded data removed]",
      "text/plain": [
       "<Figure size 432x288 with 1 Axes>"
      ]
     },
     "metadata": {
      "needs_background": "light"
     },
     "output_type": "display_data"
    }
   ],
   "source": [
    "for i in [0, 1]:\n",
    "    if i == 0:\n",
    "        plt.scatter(cluster1_x, cluster1_y, color='red', label=i)\n",
    "    else:\n",
    "        plt.scatter(cluster2_x, cluster2_y, color='yellow', label=i)\n",
    "plt.scatter([cluster1_mean[0], cluster2_mean[0]], [cluster1_mean[1], cluster2_mean[1]], color='black')\n",
    "plt.legend()\n",
    "plt.show()"
   ]
  }
 ],
 "metadata": {
  "kernelspec": {
   "display_name": "Python 3",
   "language": "python",
   "name": "python3"
  },
  "language_info": {
   "codemirror_mode": {
    "name": "ipython",
    "version": 3
   },
   "file_extension": ".py",
   "mimetype": "text/x-python",
   "name": "python",
   "nbconvert_exporter": "python",
   "pygments_lexer": "ipython3",
   "version": "3.8.5"
  }
 },
 "nbformat": 4,
 "nbformat_minor": 4
}
